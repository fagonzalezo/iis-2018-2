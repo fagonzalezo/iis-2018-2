{
 "cells": [
  {
   "cell_type": "markdown",
   "metadata": {
    "colab_type": "text",
    "id": "yTRoytbIps_y"
   },
   "source": [
    "# Práctica 2\n",
    "# Clasificación no lineal, complejidad y sobreajuste\n",
    "## [Introducción a los Sistemas Inteligentes](https://fagonzalezo.github.io/iis-2018-2/)\n",
    "### Grupos de máximo 2 personas\n",
    "### Entrega: Jueves 4 de Octubre 2018\n"
   ]
  },
  {
   "cell_type": "markdown",
   "metadata": {
    "colab_type": "text",
    "id": "dsd0ThXwptFr"
   },
   "source": [
    "Siguiendo con el uso del conjunto de datos **Wine** usado en la práctica anterior:"
   ]
  },
  {
   "cell_type": "markdown",
   "metadata": {
    "colab_type": "text",
    "id": "An1HxRMrzNas"
   },
   "source": [
    "\n",
    "### 1. Cargamos el conjunto de datos **Wine** como un DataFrame de pandas."
   ]
  },
  {
   "cell_type": "code",
   "execution_count": 0,
   "metadata": {
    "colab": {},
    "colab_type": "code",
    "collapsed": true,
    "id": "nIljezPRY8U4"
   },
   "outputs": [],
   "source": []
  },
  {
   "cell_type": "markdown",
   "metadata": {
    "colab_type": "text",
    "id": "FnkmAZTqzdSz"
   },
   "source": [
    "### 2. Generamos una partición estratificada 70-30 sobre el conjunto de datos cargados."
   ]
  },
  {
   "cell_type": "code",
   "execution_count": 0,
   "metadata": {
    "colab": {},
    "colab_type": "code",
    "collapsed": true,
    "id": "fbhykV4eZCKd"
   },
   "outputs": [],
   "source": []
  },
  {
   "cell_type": "markdown",
   "metadata": {
    "colab_type": "text",
    "id": "46nn0X7_zoET"
   },
   "source": [
    "### 3. Generamos una gráfica de barras en Pandas que verifique que las particiones de entrenamiento y probamos tengan la misma distribución de clases."
   ]
  },
  {
   "cell_type": "code",
   "execution_count": 0,
   "metadata": {
    "colab": {},
    "colab_type": "code",
    "collapsed": true,
    "id": "s6VScTn7ZFoe"
   },
   "outputs": [],
   "source": []
  },
  {
   "cell_type": "markdown",
   "metadata": {
    "colab_type": "text",
    "id": "JB0z6jd30AP3"
   },
   "source": [
    "## Explorando la complejidad usando `KNearestNeighbor`"
   ]
  },
  {
   "cell_type": "markdown",
   "metadata": {
    "colab_type": "text",
    "id": "M3rpx6l40DuX"
   },
   "source": [
    "### 4. Entrenamos un modelo `KNearestNeighbor`. Usamos los siguientes valores para evaluar la complejidad:###\n",
    "   * $[1, 2, 3, \\dots, 20]$\n",
    "   * Graficamos los errores de entrenamiento y generalización conforme a la complejidad el modelo aumenta."
   ]
  },
  {
   "cell_type": "code",
   "execution_count": null,
   "metadata": {
    "colab": {},
    "colab_type": "code",
    "collapsed": true,
    "id": "c7bxZvExZI0f"
   },
   "outputs": [],
   "source": []
  },
  {
   "cell_type": "markdown",
   "metadata": {
    "colab_type": "text",
    "id": "aeQsAkLG1GXp"
   },
   "source": [
    "### 5. Construimos un conjunto de datos usando las características `Proline` contra `Flavonoids`. \n",
    "   * Usamos la partición 70-30 definida al inicio\n",
    "   * Usando `KNearestNeighbor`, determinamos el número óptimo de k-vecinos usando evaluación de la complejidad. Use los mismos valores de $k$: $[1, 2, 3, \\dots, 20]$\n",
    "   * Graficamos la superficie de decisión contra los ejemplos de test.\n",
    "   * Reportamos accuracy, el error de clasificación, la precisión macro, el recall macro y el F1 score macro sobre el **conjunto de prueba**."
   ]
  },
  {
   "cell_type": "code",
   "execution_count": null,
   "metadata": {
    "colab": {},
    "colab_type": "code",
    "collapsed": true,
    "id": "Bgqc_XaUZM9O"
   },
   "outputs": [],
   "source": []
  },
  {
   "cell_type": "markdown",
   "metadata": {
    "colab_type": "text",
    "id": "-CZoBjCY1qGo"
   },
   "source": [
    "## Explorando la complejidad usando `DecisionTree`"
   ]
  },
  {
   "cell_type": "markdown",
   "metadata": {
    "colab_type": "text",
    "id": "Oa873iac1scj"
   },
   "source": [
    "### 6. Entrenamos un modelo de árbol de decisión usando los siguientes valores de profundidad:\n",
    "* $[1, 2, 3, 4, 5, 7, 8, 9, 10]$\n",
    "* Graficamos los errores de entrenamiento y generalización conforme a la complejidad el modelo aumenta."
   ]
  },
  {
   "cell_type": "code",
   "execution_count": 0,
   "metadata": {
    "colab": {},
    "colab_type": "code",
    "collapsed": true,
    "id": "h6VNrSl6ZRc3"
   },
   "outputs": [],
   "source": []
  },
  {
   "cell_type": "markdown",
   "metadata": {
    "colab_type": "text",
    "id": "gIgp72MM2Jxy"
   },
   "source": [
    "### 7. Construyamos un conjunto de datos usando las características `Alcalinity` contra `Malic Acid`.\n",
    "\n",
    "* Usamos la partición 70-30 definida al inicio\n",
    "* Usando `DecisionTree`, determine el número subóptimo de profundidad máxima usando evaluación de la complejidad. Use los mismos valores de $\\textit{max_depth}$ : $[1, 2, 3, 4, 5, 7, 8, 9, 10]$\n",
    "* Grafique la superficie de decisión contra los ejemplos de test.\n",
    "* Reporte accuracy, el error de clasificación, la precisión macro, el recall macro y el F1 score macro sobre el **conjunto de prueba**."
   ]
  },
  {
   "cell_type": "code",
   "execution_count": 0,
   "metadata": {
    "colab": {},
    "colab_type": "code",
    "collapsed": true,
    "id": "K5USBkHbZVSI"
   },
   "outputs": [],
   "source": []
  },
  {
   "cell_type": "markdown",
   "metadata": {
    "colab_type": "text",
    "id": "1e11HeXOCpFR"
   },
   "source": [
    "## Visualización usando `DecisionTree`"
   ]
  },
  {
   "cell_type": "markdown",
   "metadata": {
    "colab_type": "text",
    "id": "P0HQVRhnCtOy"
   },
   "source": [
    "### 8. Escoja el mejor modelo entrenado sobre las 13 características. Visualice el árbol de decisión."
   ]
  },
  {
   "cell_type": "code",
   "execution_count": 0,
   "metadata": {
    "colab": {},
    "colab_type": "code",
    "collapsed": true,
    "id": "aWMUgRGEZZar"
   },
   "outputs": [],
   "source": []
  },
  {
   "cell_type": "markdown",
   "metadata": {
    "colab_type": "text",
    "id": "ZLxrlq70XcQG"
   },
   "source": [
    "### 9. ¿Cuales son las características más importantes del modelo?"
   ]
  },
  {
   "cell_type": "markdown",
   "metadata": {
    "colab_type": "text",
    "id": "LBxtj-ATZek6"
   },
   "source": []
  },
  {
   "cell_type": "markdown",
   "metadata": {
    "colab_type": "text",
    "id": "Sdv-LOofXcWQ"
   },
   "source": [
    "### 10. Exprese 5 reglas de decisión con base en el árbol entrenado.\n"
   ]
  },
  {
   "cell_type": "code",
   "execution_count": 0,
   "metadata": {
    "colab": {},
    "colab_type": "code",
    "collapsed": true,
    "id": "eEEZgkFZX9sl"
   },
   "outputs": [],
   "source": []
  },
  {
   "cell_type": "markdown",
   "metadata": {},
   "source": [
    "**Instrucciones de envío:**\n",
    "\n",
    "Este notebook debe enviarse a través del siguiente [File Request](https://www.dropbox.com/request/BaGOOsyWbYDRQAfKRTGJ)\n",
    "antes de la medianoche de la fecha límite. El archivo debe nombrarse como \n",
    "`iis-practica2-unalusername1-unalusername2.ipynb`, donde `unalusername` es el nombre de usuario asignado por la universidad (incluya los nombres de usuario de todos los miembros del grupo)."
   ]
  },
  {
   "cell_type": "code",
   "execution_count": null,
   "metadata": {
    "collapsed": true
   },
   "outputs": [],
   "source": []
  }
 ],
 "metadata": {
  "colab": {
   "collapsed_sections": [],
   "name": "DEMO-s3_Clasificación no lineal, complejidad y sobreajuste.ipynb",
   "provenance": [],
   "version": "0.3.2"
  },
  "kernelspec": {
   "display_name": "Python 3",
   "language": "python",
   "name": "python3"
  },
  "language_info": {
   "codemirror_mode": {
    "name": "ipython",
    "version": 3
   },
   "file_extension": ".py",
   "mimetype": "text/x-python",
   "name": "python",
   "nbconvert_exporter": "python",
   "pygments_lexer": "ipython3",
   "version": "3.6.3"
  }
 },
 "nbformat": 4,
 "nbformat_minor": 1
}
