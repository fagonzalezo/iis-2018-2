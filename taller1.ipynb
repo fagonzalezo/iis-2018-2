{
 "cells": [
  {
   "cell_type": "markdown",
   "metadata": {},
   "source": [
    "# Taller 1\n",
    "## Introducción a los sistemas inteligentes 2018-2\n",
    "\n",
    "**Fecha límite de entrega**: _Viernes 21 de Septiembre_ antes de la medianoche (ver instrucciones de envío al final)\n",
    "\n",
    "Integrantes del grupo (máximo 3):\n",
    "\n",
    "* Nombre_1 ID_1\n",
    "* Nombre_2 ID_2\n",
    "* Nombre_3 ID_3\n",
    "\n",
    "___________\n",
    "\n",
    "## Cuadrado de Rubik (o Cubo de Rubik 2D)\n",
    "\n",
    "El *Cuadrado de Rubik* es un rompecabezas inspirado en el famoso cubo de Rubik. Consiste de un arreglo de 16 fichas organizadas en una matriz de $4\\times 4$ como se ilustra en la siguiente figura:\n",
    "\n",
    "<img src=\"https://raw.githubusercontent.com/fagonzalezo/iis-2018-2/master/rubik2D.png\" \n",
    "alt=\"Cuadrado de Rubik \" width=\"240\" height=\"180\" border=\"10\" />\n",
    "\n",
    "Los colores son ilustrativos, lo importante es el número en cada una de las fichas. Se pueden hacer 10 movimientos diferentes correspondientes a rotar las 4 fichas alrededor de cada uno de los puntos A, B, C, D y E en el sentido de las manecillas del reloj o en el sentido opuesto.\n",
    "\n",
    "Su objetivo es modelar el *Cuadrado de Rubik* como un problema de búsqueda y resolverlo usando diferentes algoritmos de búsqueda.\n",
    "\n",
    "_________\n"
   ]
  },
  {
   "cell_type": "markdown",
   "metadata": {},
   "source": [
    "### 1. Cree una clase para modelar el problema del Cuadrado de Rubik"
   ]
  },
  {
   "cell_type": "markdown",
   "metadata": {},
   "source": [
    "Un Cuadrado de Rubik debe representarse como una lista con valores enteros que representan cada una de las fichas.\n",
    "\n",
    "Por ejemplo un Cuadrado de Rubik resuelto debe verse así:\n",
    "\n",
    "```python\n",
    "[ 1,  2,  3,  4,\n",
    "  5,  6,  7,  8,\n",
    "  9, 10, 11, 12,\n",
    " 13, 14, 15, 16]\n",
    "```"
   ]
  },
  {
   "cell_type": "markdown",
   "metadata": {},
   "source": [
    "#### Definición de acciones\n",
    "\n",
    "La siguiente lista define las posibles acciones que se pueden ejecutar:"
   ]
  },
  {
   "cell_type": "code",
   "execution_count": 2,
   "metadata": {},
   "outputs": [],
   "source": [
    "'''\n",
    "These values MUST not be changed.\n",
    "They represent the movements of the Rubik's Square.\n",
    "'''\n",
    "actions = [\"A+\", \"A-\", \"B+\", \"B-\", \"C+\", \"C-\", \"D+\", \"D-\", \"E+\", \"E-\"]"
   ]
  },
  {
   "cell_type": "markdown",
   "metadata": {},
   "source": [
    "Cada acción indica la posición y el sentido. Por ejemplo, `'C-'` rota la posición C en el sentido opuesto de las manecillas del reloj. Si aplicamos esta acción al estado solución se obtiene el estado:\n",
    "\n",
    "```python\n",
    "[ 1,  2,  3,  4,\n",
    "  5,  7, 11,  8,\n",
    "  9,  6, 10, 12,\n",
    " 13, 14, 15, 16]\n",
    "```\n",
    "\n",
    "Si sobre este estado, aplicamos la acción `'D+'` obtenemos:\n",
    "\n",
    "```python\n",
    "[ 1,  2,  3,  4,\n",
    "  5,  7, 11,  8,\n",
    "  9,  6, 15, 10,\n",
    " 13, 14, 16, 12]\n",
    "```"
   ]
  },
  {
   "cell_type": "markdown",
   "metadata": {},
   "source": [
    "#### Clase Rubik2D_problem"
   ]
  },
  {
   "cell_type": "code",
   "execution_count": 49,
   "metadata": {},
   "outputs": [],
   "source": [
    "import search\n",
    "\n",
    "class rubik2d_problem(search.Problem):    \n",
    "    \n",
    "    def __init__(self, startState):\n",
    "        '''\n",
    "        Store the initial state in the problem representation and any useful\n",
    "        data.\n",
    "        Here are some examples of initial states:\n",
    "        [1, 2, 7, 3, 5, 9, 6, 4, 13, 11, 12, 16, 14, 10, 8, 15]\n",
    "        [1, 9, 4, 8, 5, 6, 3, 2, 15, 10, 11, 12, 13, 14, 7, 16]\n",
    "        [2, 7, 4, 8, 1, 5, 3, 11, 14, 13, 15, 10, 6, 9, 16, 12]\n",
    "        '''\n",
    "        self.expanded = 0\n",
    "        # Your code here\n",
    "        pass\n",
    "    \n",
    "    \n",
    "    def goal_test(self, state):\n",
    "        '''\n",
    "        Define when a given state is a goal state (A correctly colored masterball)\n",
    "        '''\n",
    "        # Your code here\n",
    "        pass\n",
    "    \n",
    "    def getStartState(self):\n",
    "        '''\n",
    "        Implement a method that returns the start state.\n",
    "        '''\n",
    "        # Your code here\n",
    "        pass\n",
    "\n",
    "    def actions(self, state):\n",
    "        \"\"\"Return a list of actions that can be executed in the given\n",
    "        state.\"\"\"\n",
    "        # Your code here\n",
    "        pass\n",
    "\n",
    "    def result(self, state, action):\n",
    "        \"\"\"Return the state that results from executing the given\n",
    "        action in the given state. The action must be one of\n",
    "        self.actions(state).\"\"\"\n",
    "        # Your code here\n",
    "        pass\n",
    "                          \n",
    "    def path_cost(self, c, state1, action, state2):\n",
    "        \"\"\"Return the cost of a solution path that arrives at state2 from\n",
    "        state1 via action, assuming cost c to get up to state1. If the problem\n",
    "        is such that the path doesn't matter, this function will only look at\n",
    "        state2. If the path does matter, it will consider c and maybe state1\n",
    "        and action. The default method costs 1 for every step in the path.\"\"\"\n",
    "        ### your code here ###\n",
    "        # Your code here\n",
    "        pass\n"
   ]
  },
  {
   "cell_type": "markdown",
   "metadata": {},
   "source": [
    "### 2. Evalue su código con diferentes estrategias de búsqueda\n",
    "\n"
   ]
  },
  {
   "cell_type": "code",
   "execution_count": 55,
   "metadata": {},
   "outputs": [
    {
     "name": "stdout",
     "output_type": "stream",
     "text": [
      "[]\n",
      "[]\n"
     ]
    }
   ],
   "source": [
    "def bfs(problem):\n",
    "    ### your code here ###\n",
    "    return []\n",
    "\n",
    "def iterativeDeepeningSearch(problem):\n",
    "    ### your code here ###\n",
    "    return []\n",
    "\n",
    "problem = rubik2d_problem( [1, 2, 7, 3, 5, 9, 6, 4, 13, 11, 12, 16, 14, 10, 8, 15])\n",
    "\n",
    "actions = bfs(problem)\n",
    "print(actions)\n",
    "actions = iterativeDeepeningSearch(problem)\n",
    "print(actions)\n",
    "\n"
   ]
  },
  {
   "cell_type": "markdown",
   "metadata": {},
   "source": [
    "Evaluelo para ver cuál es la máxima profundidad que se puede alcanzar en un tiempo razonable con cada estrategia de búsqueda. Reporte los resultados."
   ]
  },
  {
   "cell_type": "markdown",
   "metadata": {},
   "source": [
    "### 3. Implemente diferente heurísticas para el problema"
   ]
  },
  {
   "cell_type": "markdown",
   "metadata": {
    "collapsed": true
   },
   "source": [
    "Implemente al menos dos heurísticas admisibles y consistentes. Compare A * usando la heurística contra IDS calculando el número de nodos expandidos y el factor de ramificación efectivo, de la misma forma como se hace en la figura 3.29 de [Russell10]."
   ]
  },
  {
   "cell_type": "code",
   "execution_count": 56,
   "metadata": {},
   "outputs": [],
   "source": [
    "def nullHeuristic(state):\n",
    "    return 0\n",
    "\n",
    "def myHeuristic(state):\n",
    "    ### your code here ###\n",
    "    return 0\n",
    "\n",
    "def aStarSearch(problem, heuristic=nullHeuristic):\n",
    "    ### your code here ###\n",
    "    return []\n",
    "\n"
   ]
  },
  {
   "cell_type": "code",
   "execution_count": 58,
   "metadata": {},
   "outputs": [
    {
     "name": "stdout",
     "output_type": "stream",
     "text": [
      "[]\n",
      "[]\n"
     ]
    }
   ],
   "source": [
    "problem = rubik2d_problem([2, 7, 4, 8, 1, 5, 3, 11, 14, 13, 15, 10, 6, 9, 16, 12])\n",
    "\n",
    "print(iterativeDeepeningSearch(problem))\n",
    "print(aStarSearch(problem, myHeuristic))"
   ]
  },
  {
   "cell_type": "code",
   "execution_count": null,
   "metadata": {},
   "outputs": [],
   "source": []
  },
  {
   "cell_type": "markdown",
   "metadata": {},
   "source": [
    "**Instrucciones de envío:**\n",
    "\n",
    "Este notebook debe enviarse a través del siguiente [File Request](https://www.dropbox.com/request/A3rkt9ZMPs5i7pZrnkIZ)\n",
    "antes de la medianoche de la fecha límite. El archivo debe nombrarse como \n",
    "`iis-taller2-unalusername1-unalusername2-unalusername3.ipynb`, donde `unalusername` es el nombre de usuario asignado por la universidad (incluya los nombres de usuario de todos los miembros del grupo)."
   ]
  },
  {
   "cell_type": "code",
   "execution_count": null,
   "metadata": {},
   "outputs": [],
   "source": []
  }
 ],
 "metadata": {
  "kernelspec": {
   "display_name": "Python 3",
   "language": "python",
   "name": "python3"
  },
  "language_info": {
   "codemirror_mode": {
    "name": "ipython",
    "version": 3
   },
   "file_extension": ".py",
   "mimetype": "text/x-python",
   "name": "python",
   "nbconvert_exporter": "python",
   "pygments_lexer": "ipython3",
   "version": "3.6.4"
  }
 },
 "nbformat": 4,
 "nbformat_minor": 1
}
