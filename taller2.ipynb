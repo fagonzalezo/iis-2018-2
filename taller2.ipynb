{
  "nbformat": 4,
  "nbformat_minor": 0,
  "metadata": {
    "colab": {
      "name": "IIS-Taller2.ipynb",
      "version": "0.3.2",
      "provenance": [],
      "collapsed_sections": []
    },
    "kernelspec": {
      "display_name": "Python 3",
      "language": "python",
      "name": "python3"
    },
    "accelerator": "TPU"
  },
  "cells": [
    {
      "metadata": {
        "id": "RUNLl7b9z2Zr",
        "colab_type": "text"
      },
      "cell_type": "markdown",
      "source": [
        "# Taller 2\n",
        "# [Introducción a los sistemas inteligentes 2018-2](https://github.com/fagonzalezo/iis-2018-2/blob/master/taller1.ipynb)\n",
        "**Fecha límite de entrega**: Miércoloe 24 de Octubre antes de la medianoche (ver instrucciones de envío al final)\n",
        "\n",
        "Integrantes del grupo (máximo 3):\n",
        "\n",
        "* Nombre_1 ID_1\n",
        "* Nombre_2 ID_2\n",
        "* Nombre_3 ID_3\n",
        "\n"
      ]
    },
    {
      "metadata": {
        "id": "DSaAGTLdz2Zt",
        "colab_type": "code",
        "colab": {}
      },
      "cell_type": "code",
      "source": [
        "%matplotlib inline\n",
        "import matplotlib.pyplot as plt\n",
        "import numpy as np\n",
        "import pylab as pl\n",
        "from sklearn.datasets import make_circles\n",
        "from matplotlib.colors import Normalize\n",
        "\n",
        "\n",
        "# Función para visualizar un conjunto de datos en 2D\n",
        "def plot_data(X, y):\n",
        "    y_unique = np.unique(y)\n",
        "    colors = pl.cm.rainbow(np.linspace(0.0, 1.0, y_unique.size))\n",
        "    for this_y, color in zip(y_unique, colors):\n",
        "        this_X = X[y == this_y]\n",
        "        pl.scatter(this_X[:, 0], this_X[:, 1],  c=color,\n",
        "                    alpha=0.5, edgecolor='k',\n",
        "                    label=\"Class %s\" % this_y)\n",
        "    pl.legend(loc=\"best\")\n",
        "    pl.title(\"Data\")\n",
        "    \n",
        "# Función para visualizar de la superficie de decisión de un clasificador\n",
        "def plot_decision_region(X, pred_fun):\n",
        "    min_x = np.min(X[:, 0])\n",
        "    max_x = np.max(X[:, 0])\n",
        "    min_y = np.min(X[:, 1])\n",
        "    max_y = np.max(X[:, 1])\n",
        "    min_x = min_x - (max_x - min_x) * 0.05\n",
        "    max_x = max_x + (max_x - min_x) * 0.05\n",
        "    min_y = min_y - (max_y - min_y) * 0.05\n",
        "    max_y = max_y + (max_y - min_y) * 0.05\n",
        "    x_vals = np.linspace(min_x, max_x, 100)\n",
        "    y_vals = np.linspace(min_y, max_y, 100)\n",
        "    XX, YY = np.meshgrid(x_vals, y_vals)\n",
        "    grid_r, grid_c = XX.shape\n",
        "    ZZ = np.zeros((grid_r, grid_c))\n",
        "    for i in range(grid_r):\n",
        "        for j in range(grid_c):\n",
        "            ZZ[i, j] = pred_fun(XX[i, j], YY[i, j])\n",
        "    pl.contourf(XX, YY, ZZ, 100, cmap = pl.cm.coolwarm, vmin= -1, vmax=2)\n",
        "    pl.colorbar()\n",
        "    pl.xlabel(\"x\")\n",
        "    pl.ylabel(\"y\")\n",
        "    \n",
        "class MidpointNormalize(Normalize):\n",
        "\n",
        "    def __init__(self, vmin=None, vmax=None, midpoint=None, clip=False):\n",
        "        self.midpoint = midpoint\n",
        "        Normalize.__init__(self, vmin, vmax, clip)\n",
        "\n",
        "    def __call__(self, value, clip=None):\n",
        "        x, y = [self.vmin, self.midpoint, self.vmax], [0, 0.5, 1]\n",
        "        return np.ma.masked_array(np.interp(value, x, y))\n",
        "    \n",
        "def gen_pred_fun(clf):\n",
        "    def pred_fun(x1, x2):\n",
        "        x = np.array([[x1, x2]])\n",
        "        return clf.predict(x)[0]\n",
        "    return pred_fun\n",
        "\n",
        "def list_cm(cm,classes):     #función para generar de una forma más visual la matriz de confusión\n",
        "    if len(cm)==2:\n",
        "      cm.astype(int)\n",
        "      row_0 =['','Valor','Verdadero']\n",
        "      row_1 =['-',classes[0],classes[1]]\n",
        "      row_2 =[classes[0],cm[0,0],cm[1,0]]\n",
        "      row_3 =[classes[1],cm[0,1],cm[1,1]]\n",
        "      table = zip(row_0,row_1, row_2, row_3)\n",
        "      headers = ['', '', 'Valor', 'Predicho']  \n",
        "      return print(tabulate(table, headers=headers, floatfmt=\".0f\"))\n",
        "    else:\n",
        "      cm.astype(int)\n",
        "      row_0 =['','Valor','Verdadero','']\n",
        "      row_1 =['-',np.int(classes[0]),classes[1],classes[2]]\n",
        "      row_2 =[classes[0],cm[0,0],cm[1,0],cm[2,0]]\n",
        "      row_3 =[classes[1],cm[0,1],cm[1,1],cm[2,1]]\n",
        "      row_4 =[classes[2],cm[0,2],cm[1,2],cm[2,2]]\n",
        "      table = zip(row_0,row_1, row_2, row_3, row_4)\n",
        "      headers = ['', '', 'Valor', 'Predicho', '']  \n",
        "      return print(tabulate(table, headers=headers, floatfmt=\".0f\")) "
      ],
      "execution_count": 0,
      "outputs": []
    },
    {
      "metadata": {
        "id": "2euCbprBz2Zy",
        "colab_type": "text"
      },
      "cell_type": "markdown",
      "source": [
        "# 1. Clasificación de dígitos\n",
        "\n",
        "Carguemos el conjunto de datos `MNIST`"
      ]
    },
    {
      "metadata": {
        "id": "dlOuDANgz2Zz",
        "colab_type": "code",
        "colab": {}
      },
      "cell_type": "code",
      "source": [
        "from sklearn.datasets import fetch_mldata\n",
        "\n",
        "##Vector de 784 valores\n",
        "## Descarga la base MNIST (mnist-original.mat) en la carpeta 'data'\n",
        "digits = fetch_mldata('MNIST original', data_home='data')"
      ],
      "execution_count": 0,
      "outputs": []
    },
    {
      "metadata": {
        "id": "3j63CPO6z2Z2",
        "colab_type": "text"
      },
      "cell_type": "markdown",
      "source": [
        "Mostramos un elemento en el conjunto:"
      ]
    },
    {
      "metadata": {
        "id": "xxjWtMcmz2Z4",
        "colab_type": "code",
        "colab": {}
      },
      "cell_type": "code",
      "source": [
        "idx = 9000\n",
        "print('Valor dígito: {}'.format(digits.target[idx]))\n",
        "\n",
        "plt.figure(1, figsize=(3, 3))\n",
        "plt.grid(False)\n",
        "plt.imshow(digits.data[idx].reshape((28,28)), cmap=plt.cm.gray_r, interpolation='nearest')\n",
        "plt.show()"
      ],
      "execution_count": 0,
      "outputs": []
    },
    {
      "metadata": {
        "id": "bROPeTgfz2aE",
        "colab_type": "code",
        "colab": {}
      },
      "cell_type": "code",
      "source": [
        "digits.data[idx].reshape((28,28))"
      ],
      "execution_count": 0,
      "outputs": []
    },
    {
      "metadata": {
        "id": "CWhQ-4d3z2aL",
        "colab_type": "text"
      },
      "cell_type": "markdown",
      "source": [
        "Revisamos algunas propiedades del conjunto de datos:"
      ]
    },
    {
      "metadata": {
        "id": "CQyfx-YEz2aM",
        "colab_type": "code",
        "colab": {}
      },
      "cell_type": "code",
      "source": [
        "print('Número de instancias: {}'.format(digits.data.shape[0]))\n",
        "print('Número de clases: {}'.format(len(np.unique(digits.target))))\n",
        "print('Clases a predecir: {}'.format(np.unique(digits.target)))"
      ],
      "execution_count": 0,
      "outputs": []
    },
    {
      "metadata": {
        "id": "P_vIEfHOz2aT",
        "colab_type": "text"
      },
      "cell_type": "markdown",
      "source": [
        "Cada instancia del conjunto de datos está representada como una matriz de tamaño $28\\times 28$. Cada matriz representa una imagen en escala de grises, que contiene un dígito escrito a mano (de 0 a 9). El valor de cada elemento en la matriz representa la intensidad del color en el respectivo pixel. Verifiquemos los valores mínimos y máximos de intensidad en todas las imágenes:"
      ]
    },
    {
      "metadata": {
        "id": "Msg3SzPzz2aU",
        "colab_type": "code",
        "colab": {}
      },
      "cell_type": "code",
      "source": [
        "print('Mínimo: {}'.format(np.min(digits.data)))\n",
        "print('Máximo: {}'.format(np.max(digits.data)))"
      ],
      "execution_count": 0,
      "outputs": []
    },
    {
      "metadata": {
        "id": "RRKy2FuLz2ab",
        "colab_type": "text"
      },
      "cell_type": "markdown",
      "source": [
        "Esto nos indica que la intensidad de cada pixel varía entre $0$ y $255$. Verifiquemos la distribución de las clases del conjunto de datos:"
      ]
    },
    {
      "metadata": {
        "id": "moE1f4hOz2ac",
        "colab_type": "code",
        "colab": {}
      },
      "cell_type": "code",
      "source": [
        "y = np.array([int(x) for x in digits.target])"
      ],
      "execution_count": 0,
      "outputs": []
    },
    {
      "metadata": {
        "id": "lWOlYJLUz2al",
        "colab_type": "code",
        "colab": {}
      },
      "cell_type": "code",
      "source": [
        "for label, freq in zip(np.unique(y), np.bincount(y)):\n",
        "    print('Etiqueta {}: {}'.format(label, freq))"
      ],
      "execution_count": 0,
      "outputs": []
    },
    {
      "metadata": {
        "id": "f3Jk0own-7vE",
        "colab_type": "text"
      },
      "cell_type": "markdown",
      "source": [
        "## 1.1 Escale los datos de tal forma que tengan media cero, varianza uno. \n",
        "\n",
        "Puede usar la función [`StandardScaler`](http://scikit-learn.org/stable/modules/generated/sklearn.preprocessing.StandardScaler.html) \n"
      ]
    },
    {
      "metadata": {
        "id": "rVSu-XS3_j29",
        "colab_type": "code",
        "colab": {}
      },
      "cell_type": "code",
      "source": [
        ""
      ],
      "execution_count": 0,
      "outputs": []
    },
    {
      "metadata": {
        "id": "bsKcuVZl-8L2",
        "colab_type": "text"
      },
      "cell_type": "markdown",
      "source": [
        "## 1.2  Seleccione imágenes correspondientes a dos dígitos, por ejemplo, $0$ y $9$, o, $2$ y $4$."
      ]
    },
    {
      "metadata": {
        "id": "1oN0FABg_vrm",
        "colab_type": "code",
        "colab": {}
      },
      "cell_type": "code",
      "source": [
        ""
      ],
      "execution_count": 0,
      "outputs": []
    },
    {
      "metadata": {
        "id": "VnH-JNXk-8Ow",
        "colab_type": "text"
      },
      "cell_type": "markdown",
      "source": [
        "## 1.3  Divida el conjunto de datos en **entrenamiento**, **validación** y **prueba**. \n",
        "Primero separe **prueba** usando el 30% de los datos originales, luego use el otro 70% y particionelo de tal forma que entrenamiento tenga el $80\\%$ y validación el $20\\%$. Recuerde que las tres particiones deben ser estratificadas."
      ]
    },
    {
      "metadata": {
        "id": "Ob8xarTv-8R2",
        "colab_type": "text"
      },
      "cell_type": "markdown",
      "source": [
        "## 1.4 Entrene un clasificador `LinearSVC`\n",
        "\n",
        "explore el parámetro de regularización ($C=[2^{-15}, 2^{-9},2^{-8},\\dots,2^{5}]$) sobre entrenamiento y validación:\n",
        "* Grafique la curva de complejidad entre entrenamiento y validación. **Tip**: Use `pl.xscale(\"log\", basex=2)` para poder visualizar la curva en escala logarítmica.\n",
        "* Escoja el parámetro con el mejor compromiso entre error de validación y entrenamiento.\n"
      ]
    },
    {
      "metadata": {
        "id": "8SECCBw6AsXX",
        "colab_type": "code",
        "colab": {}
      },
      "cell_type": "code",
      "source": [
        ""
      ],
      "execution_count": 0,
      "outputs": []
    },
    {
      "metadata": {
        "id": "wZ-O-Sjo-8VX",
        "colab_type": "text"
      },
      "cell_type": "markdown",
      "source": [
        "## 1.5 Evalue el modelo\n",
        "\n",
        "* Una el conjunto de entrenamiento con el de validación y entrene un modelo usando el mejor parámetro.\n",
        "* Reporte en el conjunto de **prueba** escalado: error, accuracy, precisión por clase, recall por clase, f_1 score por clase y la matriz de confusión.\n"
      ]
    },
    {
      "metadata": {
        "id": "Rmepq-u_BCuC",
        "colab_type": "code",
        "colab": {}
      },
      "cell_type": "code",
      "source": [
        ""
      ],
      "execution_count": 0,
      "outputs": []
    },
    {
      "metadata": {
        "id": "uI9ZHX0XBEm3",
        "colab_type": "text"
      },
      "cell_type": "markdown",
      "source": [
        "## 1.6 Entrene un clasificador `RandomForest`\n",
        "\n",
        "Explore el parámetro de complejidad ($n-estimators=[2^{1}, 2^{2},\\dots,2^{11}]$) sobre entrenamiento y validación:\n",
        "* Grafique la curva de complejidad entre entrenamiento y validación. **Tip**: Use `pl.xscale(\"log\", basex=2)` para poder visualizar la curva en escala logarítmica.\n",
        "* Escoja el parámetro con el mejor compromiso entre error de validación y entrenamiento."
      ]
    },
    {
      "metadata": {
        "id": "aFFbc52QB_ch",
        "colab_type": "code",
        "colab": {}
      },
      "cell_type": "code",
      "source": [
        ""
      ],
      "execution_count": 0,
      "outputs": []
    },
    {
      "metadata": {
        "id": "vaJx5YwTBEXx",
        "colab_type": "text"
      },
      "cell_type": "markdown",
      "source": [
        "## 1.7 Evalue el modelo\n",
        "\n",
        "* Una el conjunto de entrenamiento con el de validación y entrene un modelo usando el mejor parámetro.\n",
        "* Reporte en el conjunto de **prueba** escalado: error, accuracy, precisión por clase, recall por clase, f_1 score por clase y la matriz de confusión.\n"
      ]
    },
    {
      "metadata": {
        "id": "ekvPXmxXCT8s",
        "colab_type": "code",
        "colab": {}
      },
      "cell_type": "code",
      "source": [
        ""
      ],
      "execution_count": 0,
      "outputs": []
    },
    {
      "metadata": {
        "id": "iH_llri8BEMl",
        "colab_type": "text"
      },
      "cell_type": "markdown",
      "source": [
        "## 1.8 Visualización de la importancia de características\n",
        "\n",
        "* Use el conjunto original con las 10 clases sin escalar.\n",
        "* Genere una partición 70%-30% para entrenamiento y prueba.\n",
        "* Entrene un modelo RandomForest con los siguientes parámetros:\n",
        "    * `n_estimators`: 100\n",
        "    * `random_state`: 42\n",
        "* Reporte el desempeño del modelo en el conjunto de **prueba**: error, accuracy, precisión por clase, recall por clase, f_1 score por clase y la matriz de confusión.\n",
        "* Use el modelo entrenado y extraiga las características más importantes. Use la siguiente pieza de código para visualizar los pixeles más importantes:\n",
        "\n",
        "```python\n",
        "importances = random_forest.feature_importances_\n",
        "importances = importances.reshape((28,28))\n",
        "\n",
        "plt.matshow(importances, cmap=plt.cm.hot)\n",
        "plt.title(\"Importancias por pixel\")\n",
        "plt.show()\n",
        "```"
      ]
    },
    {
      "metadata": {
        "id": "ljeVzq3VBD-h",
        "colab_type": "text"
      },
      "cell_type": "markdown",
      "source": [
        "## 1.9 Entrene un modelo con todas las clases \n",
        "* Separe el conjunto de datos en prueba, validación y entrenamiento.\n",
        "* Pruebe diferentes métodos de clasificación (al menos 3)\n",
        "* Para cada método de clasificación  explore los mejores parámetros de complejidad usando los subconjuntos de validación y entrenamiento. Una validación y entrenamiento y entrene un modelo con los mejores parámetros.\n",
        "* Pruebe los modelos obetenidos con los diferentes métodos en el conjunto de prueba. Evalue diferentes medidas de rendimiento y haga una comparación. Analice y discuta los resultados."
      ]
    },
    {
      "metadata": {
        "id": "qXXeUfGFEpF1",
        "colab_type": "code",
        "colab": {}
      },
      "cell_type": "code",
      "source": [
        ""
      ],
      "execution_count": 0,
      "outputs": []
    },
    {
      "metadata": {
        "id": "KUaUoMLX8fIH",
        "colab_type": "text"
      },
      "cell_type": "markdown",
      "source": [
        "# 2. Clasificación de escenas\n",
        "\n",
        "Vamos a usar el conjunto de datos [15-scene](https://figshare.com/articles/15-Scene_Image_Dataset/7007177), el cual contiene imágenes de 15 escenarios como suburbios, zonas industirales, habitaciones, entre otros. Vamos a usar una estrategia análoga a la descrita en este tutorial [ IMAGE CLASSIFICATION WITH SCIKIT-LEARN](https://kapernikov.com/tutorial-image-classification-with-scikit-learn/)\n"
      ]
    },
    {
      "metadata": {
        "id": "bfNKDs3a-0-p",
        "colab_type": "text"
      },
      "cell_type": "markdown",
      "source": [
        "## 2.1 Cree el conjunto de datos\n",
        "\n",
        "*  Descargue las imágenes del sitio web [15-scene](https://figshare.com/articles/15-Scene_Image_Dataset/7007177). \n",
        "*  Lea las imágenes a memoria y cree una estructura análoga al diccionario `data` creado en el tutorial (esta estructura es cargada desde un `pkl` de manera que no se describe como se creo a partir de las imágenes). Se sugiere utilizar las funciones de [Matplotlib](https://matplotlib.org/) para la carga de imágenes descritas [aquí](https://matplotlib.org/users/image_tutorial.html).\n",
        "* Visualice un par de imágenes para verificar que se hayan cargado exitosamente el conjunto de datos.\n",
        "* ¿Que *shape* tiene `data['data']`?\n",
        "* ¿Que *shape* tiene `data['label']`?\n",
        "* Haga un *split* de las imágenes en *train* y *test* de manera estratificada.\n",
        "* Dibuje un *bar plot* similar al mostrado en el tutorial `'relative amount of photos per type'`\n",
        "\n"
      ]
    },
    {
      "metadata": {
        "id": "JY92obkcAKEn",
        "colab_type": "code",
        "colab": {}
      },
      "cell_type": "code",
      "source": [
        ""
      ],
      "execution_count": 0,
      "outputs": []
    },
    {
      "metadata": {
        "id": "X3A9eizRAKnN",
        "colab_type": "text"
      },
      "cell_type": "markdown",
      "source": [
        "## 2.2 Extraiga las características \n",
        "\n",
        "Siguiendo el tutorial vamos a extraer las características de las imágenes usando HOG:\n",
        "* Aplique los *transformers* descritos en el tutorial\n",
        "* ¿Que *shape* tiene `X_train_prepared`?"
      ]
    },
    {
      "metadata": {
        "id": "wJ8Fxf-MCJrS",
        "colab_type": "code",
        "colab": {}
      },
      "cell_type": "code",
      "source": [
        ""
      ],
      "execution_count": 0,
      "outputs": []
    },
    {
      "metadata": {
        "id": "E_PMvSiNCKR2",
        "colab_type": "text"
      },
      "cell_type": "markdown",
      "source": [
        "## 2.3 Entrene diferentes clasificadores\n",
        "\n",
        "Entrene diferentes tipos de clasificadores (logistic regression, random forest, SVM, etc.):\n",
        "* Explore los valores óptimos de los hiperparámetros usando validación cruzada y *grid search*\n",
        "* Grafique los resultados de la exploración\n",
        "* Escoja los valorés apropiados de los hiperparámetros para cada tipo de clasificador"
      ]
    },
    {
      "metadata": {
        "id": "jR7BqEaiC16S",
        "colab_type": "code",
        "colab": {}
      },
      "cell_type": "code",
      "source": [
        ""
      ],
      "execution_count": 0,
      "outputs": []
    },
    {
      "metadata": {
        "id": "kJ3wyXcpC2Wd",
        "colab_type": "text"
      },
      "cell_type": "markdown",
      "source": [
        "## 2.4 Evalue los clasificadores con las imágenes de prueba\n",
        "\n",
        "* Aplique las transformaciones del caso al conjunto de prueba.\n",
        "* Para cada uno de los clasificadores muestre la matriz de confusión de prueba\n",
        "* Calcule diferentes métricas de desempeño para los diferentes clasificadores\n",
        "* Analice y discuta los resultados en detalle"
      ]
    },
    {
      "metadata": {
        "id": "tWSZg6aHE0pH",
        "colab_type": "text"
      },
      "cell_type": "markdown",
      "source": [
        "**Instrucciones de envío:**\n",
        "\n",
        "Este notebook debe enviarse a través del siguiente [File Request](https://www.dropbox.com/request/gWOZlYV5R7LvaIGF0Qdw)\n",
        "antes de la medianoche de la fecha límite. El archivo debe nombrarse como \n",
        "`iis-taller2-unalusername1-unalusername2-unalusername3.ipynb`, donde `unalusername` es el nombre de usuario asignado por la universidad (incluya los nombres de usuario de todos los miembros del grupo)."
      ]
    }
  ]
}