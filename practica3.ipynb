{
  "nbformat": 4,
  "nbformat_minor": 0,
  "metadata": {
    "colab": {
      "name": "practica3.ipynb",
      "version": "0.3.2",
      "provenance": [],
      "collapsed_sections": []
    },
    "kernelspec": {
      "display_name": "Python 3",
      "language": "python",
      "name": "python3"
    }
  },
  "cells": [
    {
      "metadata": {
        "colab_type": "text",
        "id": "yTRoytbIps_y"
      },
      "cell_type": "markdown",
      "source": [
        "# Práctica 3\n",
        "# Reducción de la dimensionalidad y agrupamiento\n",
        "## [Introducción a los Sistemas Inteligentes](https://fagonzalezo.github.io/iis-2018-2/)\n",
        "### Grupos de máximo 2 personas\n",
        "### Entrega: Lunes 21 de Enero de 2018\n"
      ]
    },
    {
      "metadata": {
        "colab_type": "text",
        "id": "dsd0ThXwptFr"
      },
      "cell_type": "markdown",
      "source": [
        "Carguemos el siguiente conjunto de datos de movimientos en la bolsa de diferentes acciones:"
      ]
    },
    {
      "metadata": {
        "id": "7BohnPu-Onhe",
        "colab_type": "code",
        "colab": {
          "base_uri": "https://localhost:8080/",
          "height": 326
        },
        "outputId": "9ba4e5cc-6c9b-40a5-bdf2-394198ee2aca"
      },
      "cell_type": "code",
      "source": [
        "!wget -O company-stock-movements-2010-2015-incl.csv.gz  \"https://drive.google.com/uc?export=download&id=1QUwMXIFNU-50tSVO6wt5J8_FFY9twGJX\""
      ],
      "execution_count": 1,
      "outputs": [
        {
          "output_type": "stream",
          "text": [
            "--2018-12-06 02:00:27--  https://drive.google.com/uc?export=download&id=1QUwMXIFNU-50tSVO6wt5J8_FFY9twGJX\n",
            "Resolving drive.google.com (drive.google.com)... 74.125.197.113, 74.125.197.138, 74.125.197.139, ...\n",
            "Connecting to drive.google.com (drive.google.com)|74.125.197.113|:443... connected.\n",
            "HTTP request sent, awaiting response... 302 Moved Temporarily\n",
            "Location: https://doc-00-94-docs.googleusercontent.com/docs/securesc/ha0ro937gcuc7l7deffksulhg5h7mbp1/cm2asb8n1kf5l1age2l4icm4tqnqhddd/1544061600000/17039964666782190292/*/1QUwMXIFNU-50tSVO6wt5J8_FFY9twGJX?e=download [following]\n",
            "Warning: wildcards not supported in HTTP.\n",
            "--2018-12-06 02:00:27--  https://doc-00-94-docs.googleusercontent.com/docs/securesc/ha0ro937gcuc7l7deffksulhg5h7mbp1/cm2asb8n1kf5l1age2l4icm4tqnqhddd/1544061600000/17039964666782190292/*/1QUwMXIFNU-50tSVO6wt5J8_FFY9twGJX?e=download\n",
            "Resolving doc-00-94-docs.googleusercontent.com (doc-00-94-docs.googleusercontent.com)... 74.125.142.132, 2607:f8b0:400e:c08::84\n",
            "Connecting to doc-00-94-docs.googleusercontent.com (doc-00-94-docs.googleusercontent.com)|74.125.142.132|:443... connected.\n",
            "HTTP request sent, awaiting response... 200 OK\n",
            "Length: 198864 (194K) [application/gzip]\n",
            "Saving to: ‘company-stock-movements-2010-2015-incl.csv.gz’\n",
            "\n",
            "company-stock-movem 100%[===================>] 194.20K  --.-KB/s    in 0.003s  \n",
            "\n",
            "2018-12-06 02:00:28 (55.7 MB/s) - ‘company-stock-movements-2010-2015-incl.csv.gz’ saved [198864/198864]\n",
            "\n"
          ],
          "name": "stdout"
        }
      ]
    },
    {
      "metadata": {
        "id": "P3xgeqWEPyYV",
        "colab_type": "code",
        "colab": {
          "base_uri": "https://localhost:8080/",
          "height": 34
        },
        "outputId": "c4ae4f59-0b2b-4a34-a241-38fe581c5e20"
      },
      "cell_type": "code",
      "source": [
        "import pandas as pd\n",
        "\n",
        "d1 = pd.read_csv(\"company-stock-movements-2010-2015-incl.csv.gz\", index_col=0)\n",
        "d1.shape"
      ],
      "execution_count": 3,
      "outputs": [
        {
          "output_type": "execute_result",
          "data": {
            "text/plain": [
              "(60, 963)"
            ]
          },
          "metadata": {
            "tags": []
          },
          "execution_count": 3
        }
      ]
    },
    {
      "metadata": {
        "id": "BmU7JrBVQAQL",
        "colab_type": "code",
        "colab": {
          "base_uri": "https://localhost:8080/",
          "height": 287
        },
        "outputId": "527e0709-9ca8-4717-fe42-bdad60468fc8"
      },
      "cell_type": "code",
      "source": [
        "d1.head()"
      ],
      "execution_count": 4,
      "outputs": [
        {
          "output_type": "execute_result",
          "data": {
            "text/html": [
              "<div>\n",
              "<style scoped>\n",
              "    .dataframe tbody tr th:only-of-type {\n",
              "        vertical-align: middle;\n",
              "    }\n",
              "\n",
              "    .dataframe tbody tr th {\n",
              "        vertical-align: top;\n",
              "    }\n",
              "\n",
              "    .dataframe thead th {\n",
              "        text-align: right;\n",
              "    }\n",
              "</style>\n",
              "<table border=\"1\" class=\"dataframe\">\n",
              "  <thead>\n",
              "    <tr style=\"text-align: right;\">\n",
              "      <th></th>\n",
              "      <th>2010-01-04</th>\n",
              "      <th>2010-01-05</th>\n",
              "      <th>2010-01-06</th>\n",
              "      <th>2010-01-07</th>\n",
              "      <th>2010-01-08</th>\n",
              "      <th>2010-01-11</th>\n",
              "      <th>2010-01-12</th>\n",
              "      <th>2010-01-13</th>\n",
              "      <th>2010-01-14</th>\n",
              "      <th>2010-01-15</th>\n",
              "      <th>...</th>\n",
              "      <th>2013-10-16</th>\n",
              "      <th>2013-10-17</th>\n",
              "      <th>2013-10-18</th>\n",
              "      <th>2013-10-21</th>\n",
              "      <th>2013-10-22</th>\n",
              "      <th>2013-10-23</th>\n",
              "      <th>2013-10-24</th>\n",
              "      <th>2013-10-25</th>\n",
              "      <th>2013-10-28</th>\n",
              "      <th>2013-10-29</th>\n",
              "    </tr>\n",
              "  </thead>\n",
              "  <tbody>\n",
              "    <tr>\n",
              "      <th>Apple</th>\n",
              "      <td>0.580000</td>\n",
              "      <td>-0.220005</td>\n",
              "      <td>-3.409998</td>\n",
              "      <td>-1.170000</td>\n",
              "      <td>1.680011</td>\n",
              "      <td>-2.689994</td>\n",
              "      <td>-1.469994</td>\n",
              "      <td>2.779997</td>\n",
              "      <td>-0.680003</td>\n",
              "      <td>-4.999995</td>\n",
              "      <td>...</td>\n",
              "      <td>0.320008</td>\n",
              "      <td>4.519997</td>\n",
              "      <td>2.899987</td>\n",
              "      <td>9.590019</td>\n",
              "      <td>-6.540016</td>\n",
              "      <td>5.959976</td>\n",
              "      <td>6.910011</td>\n",
              "      <td>-5.359962</td>\n",
              "      <td>0.840019</td>\n",
              "      <td>-19.589981</td>\n",
              "    </tr>\n",
              "    <tr>\n",
              "      <th>AIG</th>\n",
              "      <td>-0.640002</td>\n",
              "      <td>-0.650000</td>\n",
              "      <td>-0.210001</td>\n",
              "      <td>-0.420000</td>\n",
              "      <td>0.710001</td>\n",
              "      <td>-0.200001</td>\n",
              "      <td>-1.130001</td>\n",
              "      <td>0.069999</td>\n",
              "      <td>-0.119999</td>\n",
              "      <td>-0.500000</td>\n",
              "      <td>...</td>\n",
              "      <td>0.919998</td>\n",
              "      <td>0.709999</td>\n",
              "      <td>0.119999</td>\n",
              "      <td>-0.480000</td>\n",
              "      <td>0.010002</td>\n",
              "      <td>-0.279998</td>\n",
              "      <td>-0.190003</td>\n",
              "      <td>-0.040001</td>\n",
              "      <td>-0.400002</td>\n",
              "      <td>0.660000</td>\n",
              "    </tr>\n",
              "    <tr>\n",
              "      <th>Amazon</th>\n",
              "      <td>-2.350006</td>\n",
              "      <td>1.260009</td>\n",
              "      <td>-2.350006</td>\n",
              "      <td>-2.009995</td>\n",
              "      <td>2.960006</td>\n",
              "      <td>-2.309997</td>\n",
              "      <td>-1.640007</td>\n",
              "      <td>1.209999</td>\n",
              "      <td>-1.790001</td>\n",
              "      <td>-2.039994</td>\n",
              "      <td>...</td>\n",
              "      <td>2.109985</td>\n",
              "      <td>3.699982</td>\n",
              "      <td>9.570008</td>\n",
              "      <td>-3.450013</td>\n",
              "      <td>4.820008</td>\n",
              "      <td>-4.079986</td>\n",
              "      <td>2.579986</td>\n",
              "      <td>4.790009</td>\n",
              "      <td>-1.760009</td>\n",
              "      <td>3.740021</td>\n",
              "    </tr>\n",
              "    <tr>\n",
              "      <th>American express</th>\n",
              "      <td>0.109997</td>\n",
              "      <td>0.000000</td>\n",
              "      <td>0.260002</td>\n",
              "      <td>0.720002</td>\n",
              "      <td>0.190003</td>\n",
              "      <td>-0.270001</td>\n",
              "      <td>0.750000</td>\n",
              "      <td>0.300004</td>\n",
              "      <td>0.639999</td>\n",
              "      <td>-0.130001</td>\n",
              "      <td>...</td>\n",
              "      <td>0.680001</td>\n",
              "      <td>2.290001</td>\n",
              "      <td>0.409996</td>\n",
              "      <td>-0.069999</td>\n",
              "      <td>0.100006</td>\n",
              "      <td>0.069999</td>\n",
              "      <td>0.130005</td>\n",
              "      <td>1.849999</td>\n",
              "      <td>0.040001</td>\n",
              "      <td>0.540001</td>\n",
              "    </tr>\n",
              "    <tr>\n",
              "      <th>Boeing</th>\n",
              "      <td>0.459999</td>\n",
              "      <td>1.770000</td>\n",
              "      <td>1.549999</td>\n",
              "      <td>2.690003</td>\n",
              "      <td>0.059997</td>\n",
              "      <td>-1.080002</td>\n",
              "      <td>0.360000</td>\n",
              "      <td>0.549999</td>\n",
              "      <td>0.530002</td>\n",
              "      <td>-0.709999</td>\n",
              "      <td>...</td>\n",
              "      <td>1.559997</td>\n",
              "      <td>2.480003</td>\n",
              "      <td>0.019997</td>\n",
              "      <td>-1.220001</td>\n",
              "      <td>0.480003</td>\n",
              "      <td>3.020004</td>\n",
              "      <td>-0.029999</td>\n",
              "      <td>1.940002</td>\n",
              "      <td>1.130005</td>\n",
              "      <td>0.309998</td>\n",
              "    </tr>\n",
              "  </tbody>\n",
              "</table>\n",
              "<p>5 rows × 963 columns</p>\n",
              "</div>"
            ],
            "text/plain": [
              "                  2010-01-04  2010-01-05  2010-01-06  2010-01-07  2010-01-08  \\\n",
              "Apple               0.580000   -0.220005   -3.409998   -1.170000    1.680011   \n",
              "AIG                -0.640002   -0.650000   -0.210001   -0.420000    0.710001   \n",
              "Amazon             -2.350006    1.260009   -2.350006   -2.009995    2.960006   \n",
              "American express    0.109997    0.000000    0.260002    0.720002    0.190003   \n",
              "Boeing              0.459999    1.770000    1.549999    2.690003    0.059997   \n",
              "\n",
              "                  2010-01-11  2010-01-12  2010-01-13  2010-01-14  2010-01-15  \\\n",
              "Apple              -2.689994   -1.469994    2.779997   -0.680003   -4.999995   \n",
              "AIG                -0.200001   -1.130001    0.069999   -0.119999   -0.500000   \n",
              "Amazon             -2.309997   -1.640007    1.209999   -1.790001   -2.039994   \n",
              "American express   -0.270001    0.750000    0.300004    0.639999   -0.130001   \n",
              "Boeing             -1.080002    0.360000    0.549999    0.530002   -0.709999   \n",
              "\n",
              "                     ...      2013-10-16  2013-10-17  2013-10-18  2013-10-21  \\\n",
              "Apple                ...        0.320008    4.519997    2.899987    9.590019   \n",
              "AIG                  ...        0.919998    0.709999    0.119999   -0.480000   \n",
              "Amazon               ...        2.109985    3.699982    9.570008   -3.450013   \n",
              "American express     ...        0.680001    2.290001    0.409996   -0.069999   \n",
              "Boeing               ...        1.559997    2.480003    0.019997   -1.220001   \n",
              "\n",
              "                  2013-10-22  2013-10-23  2013-10-24  2013-10-25  2013-10-28  \\\n",
              "Apple              -6.540016    5.959976    6.910011   -5.359962    0.840019   \n",
              "AIG                 0.010002   -0.279998   -0.190003   -0.040001   -0.400002   \n",
              "Amazon              4.820008   -4.079986    2.579986    4.790009   -1.760009   \n",
              "American express    0.100006    0.069999    0.130005    1.849999    0.040001   \n",
              "Boeing              0.480003    3.020004   -0.029999    1.940002    1.130005   \n",
              "\n",
              "                  2013-10-29  \n",
              "Apple             -19.589981  \n",
              "AIG                 0.660000  \n",
              "Amazon              3.740021  \n",
              "American express    0.540001  \n",
              "Boeing              0.309998  \n",
              "\n",
              "[5 rows x 963 columns]"
            ]
          },
          "metadata": {
            "tags": []
          },
          "execution_count": 4
        }
      ]
    },
    {
      "metadata": {
        "id": "LTCNtqPsQZ8U",
        "colab_type": "text"
      },
      "cell_type": "markdown",
      "source": [
        "El conjunto de datos corresponde a los cambios diarios en el valor de un conjunto de acciones."
      ]
    },
    {
      "metadata": {
        "colab_type": "text",
        "id": "An1HxRMrzNas"
      },
      "cell_type": "markdown",
      "source": [
        "\n",
        "### 1. Preprocese el conjunto de datos\n",
        "\n",
        "Para eleminar el efecto de las diferentes escalas de los datos, convierta los datos en datos bnarios asignando un valor de 1 si el valor original es >= 0 o un valor de -1 si el valor original es < 0."
      ]
    },
    {
      "metadata": {
        "colab_type": "code",
        "id": "nIljezPRY8U4",
        "colab": {}
      },
      "cell_type": "code",
      "source": [
        ""
      ],
      "execution_count": 0,
      "outputs": []
    },
    {
      "metadata": {
        "colab_type": "text",
        "id": "FnkmAZTqzdSz"
      },
      "cell_type": "markdown",
      "source": [
        "### 2. Reducción de la dimensionalidad\n",
        "\n",
        "* Aplique PCA construya la curva de varianza explicada para diferente número de componentes"
      ]
    },
    {
      "metadata": {
        "colab_type": "code",
        "id": "fbhykV4eZCKd",
        "colab": {}
      },
      "cell_type": "code",
      "source": [
        ""
      ],
      "execution_count": 0,
      "outputs": []
    },
    {
      "metadata": {
        "id": "gSm8hWtNUpzN",
        "colab_type": "text"
      },
      "cell_type": "markdown",
      "source": [
        "* Utilice las dos primeras componentes principales para visualizar los datos. Se debe mostrar el nombre de la empresa al lado del punto correspondiente."
      ]
    },
    {
      "metadata": {
        "id": "3N9R8Zk-Vaf1",
        "colab_type": "code",
        "colab": {}
      },
      "cell_type": "code",
      "source": [
        ""
      ],
      "execution_count": 0,
      "outputs": []
    },
    {
      "metadata": {
        "colab_type": "text",
        "id": "46nn0X7_zoET"
      },
      "cell_type": "markdown",
      "source": [
        "### 3. Agrupamiento\n",
        "\n",
        "* Aplique $k$-means con diferentes valores de $k$. Calcule la inercia para cada valor de $k$  y grafique los datos. De acuerdo con esta gráfica, ¿cuál debería ser el número de grupos?"
      ]
    },
    {
      "metadata": {
        "colab_type": "code",
        "id": "s6VScTn7ZFoe",
        "colab": {}
      },
      "cell_type": "code",
      "source": [
        ""
      ],
      "execution_count": 0,
      "outputs": []
    },
    {
      "metadata": {
        "colab_type": "text",
        "id": "JB0z6jd30AP3"
      },
      "cell_type": "markdown",
      "source": [
        "* Repita el punto anterior, pero esta vez calcule el coeficiente de silueta.  De acuerdo con esta gráfica, ¿cuál debería ser el número de grupos?"
      ]
    },
    {
      "metadata": {
        "id": "CVbm7SRvXUeV",
        "colab_type": "code",
        "colab": {}
      },
      "cell_type": "code",
      "source": [
        ""
      ],
      "execution_count": 0,
      "outputs": []
    },
    {
      "metadata": {
        "id": "89D7WvuRX6RP",
        "colab_type": "text"
      },
      "cell_type": "markdown",
      "source": [
        "* De acuerdo con el valor de $k$ escogido en el ítem anterior imprima, para cada grupo, el número de elementos que pertenecen a el, junto con la lista del nombre de las empresas. ¿Tienen sentido los grupos encontrados?"
      ]
    },
    {
      "metadata": {
        "id": "x6cKIqVCYVx4",
        "colab_type": "code",
        "colab": {}
      },
      "cell_type": "code",
      "source": [
        ""
      ],
      "execution_count": 0,
      "outputs": []
    },
    {
      "metadata": {
        "colab_type": "text",
        "id": "M3rpx6l40DuX"
      },
      "cell_type": "markdown",
      "source": [
        "* Visualice el agrupamiento de los datos usando una gráfica como la del punto 2, pero esta vez asigne un color a cada punto de acuerdo con el grupo al cual pertenece. Analice."
      ]
    },
    {
      "metadata": {
        "colab_type": "code",
        "id": "c7bxZvExZI0f",
        "colab": {}
      },
      "cell_type": "code",
      "source": [
        ""
      ],
      "execution_count": 0,
      "outputs": []
    },
    {
      "metadata": {
        "id": "NHh6jGfBY1Zv",
        "colab_type": "text"
      },
      "cell_type": "markdown",
      "source": [
        "### 4. Agrupamiento del conjunto de datos MNIST\n",
        "\n",
        "Repita los pasos del punto 3 con el conjunto de datos MNIST. Para el agrupamiento solo use la información de los pixeles de la imagen. En la visualización utilice como nombre del punto la etiqueta original de la imagen (el dígito correspondiente, puede de hecho omitir mostrar el punto para que la visualización sea más clara). Pruebe con una versión de dimensionalidad reducida de los datos (por ejemplo 30 dimensiones). ¿Cambia la visualiación? Analice los resultados."
      ]
    },
    {
      "metadata": {
        "colab_type": "code",
        "id": "eEEZgkFZX9sl",
        "colab": {}
      },
      "cell_type": "code",
      "source": [
        ""
      ],
      "execution_count": 0,
      "outputs": []
    },
    {
      "metadata": {
        "id": "GDX6zr1WHzO5",
        "colab_type": "text"
      },
      "cell_type": "markdown",
      "source": [
        "**Instrucciones de envío:**\n",
        "\n",
        "Este notebook debe enviarse a través del siguiente [File Request](https://www.dropbox.com/request/DGou3KFrLq2NIAFYXieS)\n",
        "antes de la medianoche de la fecha límite. El archivo debe nombrarse como \n",
        "`iis-practica3-unalusername1-unalusername2.ipynb`, donde `unalusername` es el nombre de usuario asignado por la universidad (incluya los nombres de usuario de todos los miembros del grupo)."
      ]
    }
  ]
}
